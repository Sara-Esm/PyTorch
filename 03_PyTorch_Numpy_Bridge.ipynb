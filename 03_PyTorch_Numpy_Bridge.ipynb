{
  "nbformat": 4,
  "nbformat_minor": 0,
  "metadata": {
    "colab": {
      "provenance": [],
      "authorship_tag": "ABX9TyM+rSV8TGwqPJ10OlHAPVQZ",
      "include_colab_link": true
    },
    "kernelspec": {
      "name": "python3",
      "display_name": "Python 3"
    },
    "language_info": {
      "name": "python"
    }
  },
  "cells": [
    {
      "cell_type": "markdown",
      "metadata": {
        "id": "view-in-github",
        "colab_type": "text"
      },
      "source": [
        "<a href=\"https://colab.research.google.com/github/Sara-Esm/PyTorch/blob/main/PyTorch_Numpy_Bridge.ipynb\" target=\"_parent\"><img src=\"https://colab.research.google.com/assets/colab-badge.svg\" alt=\"Open In Colab\"/></a>"
      ]
    },
    {
      "cell_type": "code",
      "execution_count": 1,
      "metadata": {
        "id": "QJsDV95WmrQy"
      },
      "outputs": [],
      "source": [
        "import torch"
      ]
    },
    {
      "cell_type": "code",
      "source": [
        "u = torch.tensor([2, 4])\n",
        "v = torch.tensor([1, 4])\n",
        "w = u * v\n",
        "print(w)\n",
        "print(w.shape)\n",
        "print(w.ndim)"
      ],
      "metadata": {
        "colab": {
          "base_uri": "https://localhost:8080/"
        },
        "id": "DJHWt6fum1_w",
        "outputId": "6dd7e993-dd74-4a12-9641-2d073bdddaa6"
      },
      "execution_count": 3,
      "outputs": [
        {
          "output_type": "stream",
          "name": "stdout",
          "text": [
            "tensor([ 2, 16])\n",
            "torch.Size([2])\n",
            "1\n"
          ]
        }
      ]
    },
    {
      "cell_type": "code",
      "source": [
        "a = torch.ones(4, 3, 2)\n",
        "b = a * torch.rand(   3, 2)\n",
        "print(b)"
      ],
      "metadata": {
        "colab": {
          "base_uri": "https://localhost:8080/"
        },
        "id": "CwhXN1FbnTH0",
        "outputId": "7c4e8cc7-a20c-4be6-cebe-de5c0e7f6484"
      },
      "execution_count": 13,
      "outputs": [
        {
          "output_type": "stream",
          "name": "stdout",
          "text": [
            "tensor([[[0.6878, 0.1851],\n",
            "         [0.4956, 0.5465],\n",
            "         [0.7733, 0.1759]],\n",
            "\n",
            "        [[0.6878, 0.1851],\n",
            "         [0.4956, 0.5465],\n",
            "         [0.7733, 0.1759]],\n",
            "\n",
            "        [[0.6878, 0.1851],\n",
            "         [0.4956, 0.5465],\n",
            "         [0.7733, 0.1759]],\n",
            "\n",
            "        [[0.6878, 0.1851],\n",
            "         [0.4956, 0.5465],\n",
            "         [0.7733, 0.1759]]])\n"
          ]
        }
      ]
    },
    {
      "cell_type": "code",
      "source": [
        "c = a * torch.rand(   3, 1)\n",
        "print(c)"
      ],
      "metadata": {
        "colab": {
          "base_uri": "https://localhost:8080/"
        },
        "id": "Dj_uPW1yn6dn",
        "outputId": "1f669ea2-28ba-4c25-f431-5fef0375c947"
      },
      "execution_count": 14,
      "outputs": [
        {
          "output_type": "stream",
          "name": "stdout",
          "text": [
            "tensor([[[0.9548, 0.9548],\n",
            "         [0.6753, 0.6753],\n",
            "         [0.0133, 0.0133]],\n",
            "\n",
            "        [[0.9548, 0.9548],\n",
            "         [0.6753, 0.6753],\n",
            "         [0.0133, 0.0133]],\n",
            "\n",
            "        [[0.9548, 0.9548],\n",
            "         [0.6753, 0.6753],\n",
            "         [0.0133, 0.0133]],\n",
            "\n",
            "        [[0.9548, 0.9548],\n",
            "         [0.6753, 0.6753],\n",
            "         [0.0133, 0.0133]]])\n"
          ]
        }
      ]
    },
    {
      "cell_type": "code",
      "source": [
        "d = a * torch.rand(   1, 2)\n",
        "print(d)"
      ],
      "metadata": {
        "colab": {
          "base_uri": "https://localhost:8080/"
        },
        "id": "thBqZANAn-rD",
        "outputId": "f142ef5d-000a-436e-8737-b7e1fe519447"
      },
      "execution_count": 15,
      "outputs": [
        {
          "output_type": "stream",
          "name": "stdout",
          "text": [
            "tensor([[[0.3837, 0.0308],\n",
            "         [0.3837, 0.0308],\n",
            "         [0.3837, 0.0308]],\n",
            "\n",
            "        [[0.3837, 0.0308],\n",
            "         [0.3837, 0.0308],\n",
            "         [0.3837, 0.0308]],\n",
            "\n",
            "        [[0.3837, 0.0308],\n",
            "         [0.3837, 0.0308],\n",
            "         [0.3837, 0.0308]],\n",
            "\n",
            "        [[0.3837, 0.0308],\n",
            "         [0.3837, 0.0308],\n",
            "         [0.3837, 0.0308]]])\n"
          ]
        }
      ]
    },
    {
      "cell_type": "code",
      "source": [
        "# switch between ndarrays and PyTorch tensors\n",
        "import numpy as np\n",
        "numpy_array = np.ones((2, 3))\n",
        "print(numpy_array)\n",
        "\n",
        "pytorch_tensor = torch.from_numpy(numpy_array)\n",
        "print(pytorch_tensor)"
      ],
      "metadata": {
        "colab": {
          "base_uri": "https://localhost:8080/"
        },
        "id": "imhQIqM9oEeO",
        "outputId": "c89aa6d9-4294-46c5-bb16-5edcb5a1d36e"
      },
      "execution_count": 16,
      "outputs": [
        {
          "output_type": "stream",
          "name": "stdout",
          "text": [
            "[[1. 1. 1.]\n",
            " [1. 1. 1.]]\n",
            "tensor([[1., 1., 1.],\n",
            "        [1., 1., 1.]], dtype=torch.float64)\n"
          ]
        }
      ]
    },
    {
      "cell_type": "code",
      "source": [
        "# reverse example of converting from PyTorch tensor into ndarray\n",
        "pytorch_rand = torch.rand(2, 3)\n",
        "print(pytorch_rand)\n",
        "\n",
        "numpy_rand = pytorch_rand.numpy()\n",
        "print(numpy_rand)"
      ],
      "metadata": {
        "colab": {
          "base_uri": "https://localhost:8080/"
        },
        "id": "VbbzBF9PoWie",
        "outputId": "90753d87-b309-41fb-9747-1bad49038402"
      },
      "execution_count": 17,
      "outputs": [
        {
          "output_type": "stream",
          "name": "stdout",
          "text": [
            "tensor([[0.5893, 0.0878, 0.8047],\n",
            "        [0.5866, 0.5164, 0.2494]])\n",
            "[[0.5892752  0.08778143 0.80471236]\n",
            " [0.58655655 0.51638037 0.24939322]]\n"
          ]
        }
      ]
    },
    {
      "cell_type": "code",
      "source": [
        "# using the same underlying memory\n",
        "numpy_array[1, 1] = 23\n",
        "print(pytorch_tensor)\n",
        "\n",
        "pytorch_rand[1, 1] = 17\n",
        "print(numpy_rand)"
      ],
      "metadata": {
        "colab": {
          "base_uri": "https://localhost:8080/"
        },
        "id": "eakdegkRoaxu",
        "outputId": "560883e1-364e-45a5-d9df-cb206f48f47e"
      },
      "execution_count": 18,
      "outputs": [
        {
          "output_type": "stream",
          "name": "stdout",
          "text": [
            "tensor([[ 1.,  1.,  1.],\n",
            "        [ 1., 23.,  1.]], dtype=torch.float64)\n",
            "[[ 0.5892752   0.08778143  0.80471236]\n",
            " [ 0.58655655 17.          0.24939322]]\n"
          ]
        }
      ]
    }
  ]
}
