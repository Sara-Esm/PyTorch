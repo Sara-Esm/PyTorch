{
  "nbformat": 4,
  "nbformat_minor": 0,
  "metadata": {
    "colab": {
      "provenance": [],
      "authorship_tag": "ABX9TyMIv6ZLAHPS2wGv+4n+FP6u",
      "include_colab_link": true
    },
    "kernelspec": {
      "name": "python3",
      "display_name": "Python 3"
    },
    "language_info": {
      "name": "python"
    }
  },
  "cells": [
    {
      "cell_type": "markdown",
      "metadata": {
        "id": "view-in-github",
        "colab_type": "text"
      },
      "source": [
        "<a href=\"https://colab.research.google.com/github/Sara-Esm/PyTorch/blob/main/PyTorch_Basic_Operations.ipynb\" target=\"_parent\"><img src=\"https://colab.research.google.com/assets/colab-badge.svg\" alt=\"Open In Colab\"/></a>"
      ]
    },
    {
      "cell_type": "code",
      "execution_count": 1,
      "metadata": {
        "id": "_p9iA6HmIKXQ"
      },
      "outputs": [],
      "source": [
        "import torch"
      ]
    },
    {
      "cell_type": "code",
      "source": [
        "# create 2 tensors\n",
        "a = torch.tensor ([1 , 2])\n",
        "b = torch.tensor ([3 , 4])\n",
        "print(a)\n",
        "print(b)"
      ],
      "metadata": {
        "colab": {
          "base_uri": "https://localhost:8080/"
        },
        "id": "MQKLS29uIQmA",
        "outputId": "8cd9592b-c6cc-42ab-f290-86c006aa4707"
      },
      "execution_count": 5,
      "outputs": [
        {
          "output_type": "stream",
          "name": "stdout",
          "text": [
            "tensor([1, 2])\n",
            "tensor([3, 4])\n"
          ]
        }
      ]
    },
    {
      "cell_type": "code",
      "source": [
        "print (a + b)\n",
        "print (a - b)"
      ],
      "metadata": {
        "colab": {
          "base_uri": "https://localhost:8080/"
        },
        "id": "rZfUehUpJXa5",
        "outputId": "7a27a279-33ea-4e29-9ecf-1690fb187c99"
      },
      "execution_count": 6,
      "outputs": [
        {
          "output_type": "stream",
          "name": "stdout",
          "text": [
            "tensor([4, 6])\n",
            "tensor([-2, -2])\n"
          ]
        }
      ]
    },
    {
      "cell_type": "code",
      "source": [
        "c = torch.rand(2, 4) * 2 - 1\n",
        "print('Common functions:')\n",
        "print(torch.abs(c))\n",
        "print(torch.ceil(c))\n",
        "print(torch.floor(c))\n",
        "print(torch.clamp(c, -0.5, 0.5))"
      ],
      "metadata": {
        "colab": {
          "base_uri": "https://localhost:8080/"
        },
        "id": "7I6QfPqKJvon",
        "outputId": "15ff2dbc-4eb5-47ed-cc9a-e5292ec931e5"
      },
      "execution_count": 7,
      "outputs": [
        {
          "output_type": "stream",
          "name": "stdout",
          "text": [
            "Common functions:\n",
            "tensor([[0.8227, 0.3225, 0.2384, 0.6512],\n",
            "        [0.7278, 0.4712, 0.6949, 0.7096]])\n",
            "tensor([[1., -0., 1., -0.],\n",
            "        [-0., -0., -0., -0.]])\n",
            "tensor([[ 0., -1.,  0., -1.],\n",
            "        [-1., -1., -1., -1.]])\n",
            "tensor([[ 0.5000, -0.3225,  0.2384, -0.5000],\n",
            "        [-0.5000, -0.4712, -0.5000, -0.5000]])\n"
          ]
        }
      ]
    },
    {
      "cell_type": "code",
      "source": [
        "x = torch.tensor([1, 2, 3, 4, 5], dtype=torch.float32)\n",
        "print(x)\n",
        "print(x.mean())"
      ],
      "metadata": {
        "colab": {
          "base_uri": "https://localhost:8080/"
        },
        "id": "qh1osLRlKotQ",
        "outputId": "9534933b-9efc-4701-e694-78b3e6a923f7"
      },
      "execution_count": 8,
      "outputs": [
        {
          "output_type": "stream",
          "name": "stdout",
          "text": [
            "tensor([1., 2., 3., 4., 5.])\n",
            "tensor(3.)\n"
          ]
        }
      ]
    },
    {
      "cell_type": "code",
      "source": [
        "print(x.max())\n",
        "print(x.min())"
      ],
      "metadata": {
        "colab": {
          "base_uri": "https://localhost:8080/"
        },
        "id": "PDmNJsYuLCxM",
        "outputId": "f08dff4d-e640-4230-ac63-379bb5dbfe5c"
      },
      "execution_count": 9,
      "outputs": [
        {
          "output_type": "stream",
          "name": "stdout",
          "text": [
            "tensor(5.)\n",
            "tensor(1.)\n"
          ]
        }
      ]
    },
    {
      "cell_type": "code",
      "source": [
        "import numpy as np\n",
        "x = torch.tensor([0, np.pi / 2, np.pi])\n",
        "print(x)\n",
        "print(torch.sin(x))\n",
        "print(torch.cos(x))"
      ],
      "metadata": {
        "colab": {
          "base_uri": "https://localhost:8080/"
        },
        "id": "pgffmCgQK_hC",
        "outputId": "2b72a732-c2f2-40b1-e0e7-e0602c5b8d09"
      },
      "execution_count": 10,
      "outputs": [
        {
          "output_type": "stream",
          "name": "stdout",
          "text": [
            "tensor([0.0000, 1.5708, 3.1416])\n",
            "tensor([ 0.0000e+00,  1.0000e+00, -8.7423e-08])\n",
            "tensor([ 1.0000e+00, -4.3711e-08, -1.0000e+00])\n"
          ]
        }
      ]
    }
  ]
}