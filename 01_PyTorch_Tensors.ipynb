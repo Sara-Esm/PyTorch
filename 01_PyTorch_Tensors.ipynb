{
  "nbformat": 4,
  "nbformat_minor": 0,
  "metadata": {
    "colab": {
      "provenance": [],
      "authorship_tag": "ABX9TyOMbHlO5fBaVWePpTK+UEtU",
      "include_colab_link": true
    },
    "kernelspec": {
      "name": "python3",
      "display_name": "Python 3"
    },
    "language_info": {
      "name": "python"
    }
  },
  "cells": [
    {
      "cell_type": "markdown",
      "metadata": {
        "id": "view-in-github",
        "colab_type": "text"
      },
      "source": [
        "<a href=\"https://colab.research.google.com/github/Sara-Esm/PyTorch/blob/main/PyTorch_Tensors.ipynb\" target=\"_parent\"><img src=\"https://colab.research.google.com/assets/colab-badge.svg\" alt=\"Open In Colab\"/></a>"
      ]
    },
    {
      "cell_type": "code",
      "execution_count": 10,
      "metadata": {
        "id": "GQHxeZQ-zwyX"
      },
      "outputs": [],
      "source": [
        "import torch"
      ]
    },
    {
      "cell_type": "code",
      "source": [
        "#create some tensores\n",
        "t0 = torch.tensor(1000)\n",
        "t1 = torch.tensor([9,8,7,6])\n",
        "t3 = torch.tensor([[3,4,5], [5,6,7]])\n",
        "\n",
        "print(t0)\n",
        "print(t1)\n",
        "print(t3)"
      ],
      "metadata": {
        "colab": {
          "base_uri": "https://localhost:8080/"
        },
        "id": "cYDD80fPz04q",
        "outputId": "922b8dd0-0658-4c29-ea36-efead3b7c38d"
      },
      "execution_count": 11,
      "outputs": [
        {
          "output_type": "stream",
          "name": "stdout",
          "text": [
            "tensor(1000)\n",
            "tensor([9, 8, 7, 6])\n",
            "tensor([[3, 4, 5],\n",
            "        [5, 6, 7]])\n"
          ]
        }
      ]
    },
    {
      "cell_type": "code",
      "source": [
        "#set datatype for the tensor\n",
        "a = torch.ones((4,3), dtype=torch.int16)\n",
        "print(a)"
      ],
      "metadata": {
        "id": "sEBbZoR41pT_",
        "colab": {
          "base_uri": "https://localhost:8080/"
        },
        "outputId": "2fa9692a-ddb9-4834-a97c-9754a6bc64d3"
      },
      "execution_count": 14,
      "outputs": [
        {
          "output_type": "stream",
          "name": "stdout",
          "text": [
            "tensor([[1, 1, 1],\n",
            "        [1, 1, 1],\n",
            "        [1, 1, 1],\n",
            "        [1, 1, 1]], dtype=torch.int16)\n"
          ]
        }
      ]
    },
    {
      "cell_type": "code",
      "source": [
        "# get the tensor size\n",
        "print(a.size())\n",
        "print(a.shape)"
      ],
      "metadata": {
        "colab": {
          "base_uri": "https://localhost:8080/"
        },
        "id": "HgqcILEnM3CV",
        "outputId": "d2730ddb-bdf7-48c9-c195-9d32f6467e9f"
      },
      "execution_count": 15,
      "outputs": [
        {
          "output_type": "stream",
          "name": "stdout",
          "text": [
            "torch.Size([4, 3])\n",
            "torch.Size([4, 3])\n"
          ]
        }
      ]
    },
    {
      "cell_type": "code",
      "source": [
        "# get the tensor dimension\n",
        "print(a.ndimension())\n",
        "print(a.ndim)"
      ],
      "metadata": {
        "colab": {
          "base_uri": "https://localhost:8080/"
        },
        "id": "XIZKyb2RNJiC",
        "outputId": "484ae813-62ed-4d55-fe19-43a92c542ac6"
      },
      "execution_count": 16,
      "outputs": [
        {
          "output_type": "stream",
          "name": "stdout",
          "text": [
            "2\n",
            "2\n"
          ]
        }
      ]
    }
  ]
}
